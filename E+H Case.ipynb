{
 "cells": [
  {
   "cell_type": "markdown",
   "id": "ac465225",
   "metadata": {},
   "source": [
    "# CASE INSTRUCTIONS\n",
    "\n",
    "We are selling products online through resellers.\n",
    " \n",
    "Most products are produced on demand, i.e. after an end customer has made the order. In order to reduce delivery times, we would like to keep certain products on stock so we can send them out immediately when we receive the order.\n",
    " \n",
    "2 of our resellers (“Customer A”,”Customer B”) have kindly provided us with their latest sales data. Based on this data, could you recommend us which products we should keep on stock?\n",
    " \n",
    "The task:<br>\n",
    "<ul>\n",
    "    <li>Please write a script that proposes the top 3 products to put on stock and explain your reasoning\n",
    "    <li>Do you see alternative solutions?\n",
    "    <li>What are the main challenges you see for this business case and how would you mitigate them?"
   ]
  },
  {
   "cell_type": "markdown",
   "id": "d3e0e2f0",
   "metadata": {},
   "source": [
    "________________________________________________________________________________________"
   ]
  },
  {
   "cell_type": "markdown",
   "id": "26ce0cb1",
   "metadata": {},
   "source": [
    "# WHICH PRODUCTS TO PUT ON STOCK?"
   ]
  },
  {
   "cell_type": "markdown",
   "id": "9d5f3986",
   "metadata": {},
   "source": [
    "According to the information at my disposal, the best way to choose the top 3 products to put on stock is to assess the global quantity sold for each product as well as the number of sales for each product on the given period. \n",
    "The 3 references to put on stock will be references that <b>sell in high volumes and also have consistent demand across multiple transactions</b>. \n",
    "\n",
    "In order to do so, here's my reasoning: "
   ]
  },
  {
   "cell_type": "code",
   "execution_count": 1,
   "id": "18938027",
   "metadata": {},
   "outputs": [],
   "source": [
    "import pandas as pd\n",
    "import numpy as np "
   ]
  },
  {
   "cell_type": "markdown",
   "id": "ae9e39a5",
   "metadata": {},
   "source": [
    "### PREPARATION REGARDING CUSTOMER A"
   ]
  },
  {
   "cell_type": "code",
   "execution_count": 2,
   "id": "8ea45cad",
   "metadata": {
    "scrolled": false
   },
   "outputs": [
    {
     "data": {
      "text/html": [
       "<div>\n",
       "<style scoped>\n",
       "    .dataframe tbody tr th:only-of-type {\n",
       "        vertical-align: middle;\n",
       "    }\n",
       "\n",
       "    .dataframe tbody tr th {\n",
       "        vertical-align: top;\n",
       "    }\n",
       "\n",
       "    .dataframe thead th {\n",
       "        text-align: right;\n",
       "    }\n",
       "</style>\n",
       "<table border=\"1\" class=\"dataframe\">\n",
       "  <thead>\n",
       "    <tr style=\"text-align: right;\">\n",
       "      <th></th>\n",
       "      <th>Invoice Date</th>\n",
       "      <th>E+H Item Number</th>\n",
       "      <th>QTY</th>\n",
       "    </tr>\n",
       "  </thead>\n",
       "  <tbody>\n",
       "    <tr>\n",
       "      <th>0</th>\n",
       "      <td>2024-03-29 00:00:00</td>\n",
       "      <td>FMR50-AAACADBMRGF</td>\n",
       "      <td>1</td>\n",
       "    </tr>\n",
       "    <tr>\n",
       "      <th>1</th>\n",
       "      <td>2024-03-29 00:00:00</td>\n",
       "      <td>CPS11E-AA7BAA6</td>\n",
       "      <td>4</td>\n",
       "    </tr>\n",
       "    <tr>\n",
       "      <th>2</th>\n",
       "      <td>2024-03-29 00:00:00</td>\n",
       "      <td>CYK10-A031</td>\n",
       "      <td>8</td>\n",
       "    </tr>\n",
       "    <tr>\n",
       "      <th>3</th>\n",
       "      <td>2024-03-29 00:00:00</td>\n",
       "      <td>CM14-AAM</td>\n",
       "      <td>6</td>\n",
       "    </tr>\n",
       "    <tr>\n",
       "      <th>4</th>\n",
       "      <td>2024-03-28 00:00:00</td>\n",
       "      <td>FTL31-CA4M2AAVAJ</td>\n",
       "      <td>1</td>\n",
       "    </tr>\n",
       "    <tr>\n",
       "      <th>...</th>\n",
       "      <td>...</td>\n",
       "      <td>...</td>\n",
       "      <td>...</td>\n",
       "    </tr>\n",
       "    <tr>\n",
       "      <th>127</th>\n",
       "      <td>2024-03-01 00:00:00</td>\n",
       "      <td>PMP21-AA1V1SBWUJ</td>\n",
       "      <td>2</td>\n",
       "    </tr>\n",
       "    <tr>\n",
       "      <th>128</th>\n",
       "      <td>2024-03-01 00:00:00</td>\n",
       "      <td>PMP71B-CDBAEJH6BR3SJAAAQJH5+Q1Z1</td>\n",
       "      <td>12</td>\n",
       "    </tr>\n",
       "    <tr>\n",
       "      <th>129</th>\n",
       "      <td>2024-03-01 00:00:00</td>\n",
       "      <td>PMD75B-CDBAEJH37HJASAJA1B+NTNZ</td>\n",
       "      <td>3</td>\n",
       "    </tr>\n",
       "    <tr>\n",
       "      <th>130</th>\n",
       "      <td>2024-03-01 00:00:00</td>\n",
       "      <td>PMD75B-CDBAEJH37FJASAJA1B+NTNZ</td>\n",
       "      <td>9</td>\n",
       "    </tr>\n",
       "    <tr>\n",
       "      <th>131</th>\n",
       "      <td>Overall Total</td>\n",
       "      <td>NaN</td>\n",
       "      <td>285</td>\n",
       "    </tr>\n",
       "  </tbody>\n",
       "</table>\n",
       "<p>132 rows × 3 columns</p>\n",
       "</div>"
      ],
      "text/plain": [
       "            Invoice Date                   E+H Item Number  QTY\n",
       "0    2024-03-29 00:00:00                 FMR50-AAACADBMRGF    1\n",
       "1    2024-03-29 00:00:00                    CPS11E-AA7BAA6    4\n",
       "2    2024-03-29 00:00:00                        CYK10-A031    8\n",
       "3    2024-03-29 00:00:00                          CM14-AAM    6\n",
       "4    2024-03-28 00:00:00                  FTL31-CA4M2AAVAJ    1\n",
       "..                   ...                               ...  ...\n",
       "127  2024-03-01 00:00:00                  PMP21-AA1V1SBWUJ    2\n",
       "128  2024-03-01 00:00:00  PMP71B-CDBAEJH6BR3SJAAAQJH5+Q1Z1   12\n",
       "129  2024-03-01 00:00:00    PMD75B-CDBAEJH37HJASAJA1B+NTNZ    3\n",
       "130  2024-03-01 00:00:00    PMD75B-CDBAEJH37FJASAJA1B+NTNZ    9\n",
       "131        Overall Total                               NaN  285\n",
       "\n",
       "[132 rows x 3 columns]"
      ]
     },
     "execution_count": 2,
     "metadata": {},
     "output_type": "execute_result"
    }
   ],
   "source": [
    "# Read the Excel file and select the columns that will be useful for my work.\n",
    "\n",
    "custA = pd.read_excel(r\"C:\\Users\\kieny\\Desktop\\E+H\\Customer A.xlsx\", usecols = [0,1,2])\n",
    "custA"
   ]
  },
  {
   "cell_type": "code",
   "execution_count": 3,
   "id": "766033f3",
   "metadata": {},
   "outputs": [],
   "source": [
    "# Delete last row of the dataframe as it will not be useful for the task.\n",
    "\n",
    "custA.drop(custA.tail(1).index, inplace=True)"
   ]
  },
  {
   "cell_type": "code",
   "execution_count": 4,
   "id": "20a54abd",
   "metadata": {},
   "outputs": [
    {
     "name": "stdout",
     "output_type": "stream",
     "text": [
      "Invoice Date       0\n",
      "E+H Item Number    0\n",
      "QTY                0\n",
      "dtype: int64\n"
     ]
    }
   ],
   "source": [
    "# Check for missing values in the dataframe.\n",
    "\n",
    "print(custA.isna().sum())"
   ]
  },
  {
   "cell_type": "code",
   "execution_count": 5,
   "id": "d233006e",
   "metadata": {
    "scrolled": true
   },
   "outputs": [
    {
     "name": "stdout",
     "output_type": "stream",
     "text": [
      "<class 'pandas.core.frame.DataFrame'>\n",
      "RangeIndex: 131 entries, 0 to 130\n",
      "Data columns (total 3 columns):\n",
      " #   Column           Non-Null Count  Dtype \n",
      "---  ------           --------------  ----- \n",
      " 0   Invoice Date     131 non-null    object\n",
      " 1   E+H Item Number  131 non-null    object\n",
      " 2   QTY              131 non-null    int64 \n",
      "dtypes: int64(1), object(2)\n",
      "memory usage: 3.2+ KB\n"
     ]
    }
   ],
   "source": [
    "# Check data types\n",
    "\n",
    "custA.info()"
   ]
  },
  {
   "cell_type": "code",
   "execution_count": 6,
   "id": "16cd398d",
   "metadata": {},
   "outputs": [
    {
     "data": {
      "text/html": [
       "<div>\n",
       "<style scoped>\n",
       "    .dataframe tbody tr th:only-of-type {\n",
       "        vertical-align: middle;\n",
       "    }\n",
       "\n",
       "    .dataframe tbody tr th {\n",
       "        vertical-align: top;\n",
       "    }\n",
       "\n",
       "    .dataframe thead th {\n",
       "        text-align: right;\n",
       "    }\n",
       "</style>\n",
       "<table border=\"1\" class=\"dataframe\">\n",
       "  <thead>\n",
       "    <tr style=\"text-align: right;\">\n",
       "      <th></th>\n",
       "      <th>Invoice Date</th>\n",
       "      <th>E+H Item Number</th>\n",
       "      <th>QTY</th>\n",
       "    </tr>\n",
       "  </thead>\n",
       "  <tbody>\n",
       "    <tr>\n",
       "      <th>0</th>\n",
       "      <td>2024-03-29</td>\n",
       "      <td>FMR50-AAACADBMRGF</td>\n",
       "      <td>1</td>\n",
       "    </tr>\n",
       "    <tr>\n",
       "      <th>1</th>\n",
       "      <td>2024-03-29</td>\n",
       "      <td>CPS11E-AA7BAA6</td>\n",
       "      <td>4</td>\n",
       "    </tr>\n",
       "    <tr>\n",
       "      <th>2</th>\n",
       "      <td>2024-03-29</td>\n",
       "      <td>CYK10-A031</td>\n",
       "      <td>8</td>\n",
       "    </tr>\n",
       "    <tr>\n",
       "      <th>3</th>\n",
       "      <td>2024-03-29</td>\n",
       "      <td>CM14-AAM</td>\n",
       "      <td>6</td>\n",
       "    </tr>\n",
       "    <tr>\n",
       "      <th>4</th>\n",
       "      <td>2024-03-28</td>\n",
       "      <td>FTL31-CA4M2AAVAJ</td>\n",
       "      <td>1</td>\n",
       "    </tr>\n",
       "  </tbody>\n",
       "</table>\n",
       "</div>"
      ],
      "text/plain": [
       "  Invoice Date    E+H Item Number  QTY\n",
       "0   2024-03-29  FMR50-AAACADBMRGF    1\n",
       "1   2024-03-29     CPS11E-AA7BAA6    4\n",
       "2   2024-03-29         CYK10-A031    8\n",
       "3   2024-03-29           CM14-AAM    6\n",
       "4   2024-03-28   FTL31-CA4M2AAVAJ    1"
      ]
     },
     "execution_count": 6,
     "metadata": {},
     "output_type": "execute_result"
    }
   ],
   "source": [
    "# Modify the data type of columns when required. The 'Invoice Date' column was in an object type when it should be in a datetime type. \n",
    "\n",
    "custA['Invoice Date'] = pd.to_datetime(custA['Invoice Date']).dt.strftime('%Y%m%d')\n",
    "custA['Invoice Date'] = pd.to_datetime(custA['Invoice Date'], format='%Y%m%d')\n",
    "custA.head()"
   ]
  },
  {
   "cell_type": "code",
   "execution_count": 7,
   "id": "78d25b7b",
   "metadata": {},
   "outputs": [
    {
     "name": "stdout",
     "output_type": "stream",
     "text": [
      "<class 'pandas.core.frame.DataFrame'>\n",
      "RangeIndex: 131 entries, 0 to 130\n",
      "Data columns (total 3 columns):\n",
      " #   Column           Non-Null Count  Dtype         \n",
      "---  ------           --------------  -----         \n",
      " 0   Invoice Date     131 non-null    datetime64[ns]\n",
      " 1   E+H Item Number  131 non-null    object        \n",
      " 2   QTY              131 non-null    int64         \n",
      "dtypes: datetime64[ns](1), int64(1), object(1)\n",
      "memory usage: 3.2+ KB\n"
     ]
    }
   ],
   "source": [
    "# Check whether data types have been corrected as they should. We can see that 'Invoice Date' data type has been changed correctly.\n",
    "\n",
    "custA.info()"
   ]
  },
  {
   "cell_type": "markdown",
   "id": "bbc6559a",
   "metadata": {},
   "source": [
    "### PREPARATION REGARDING CUSTOMER B"
   ]
  },
  {
   "cell_type": "code",
   "execution_count": 8,
   "id": "195ffdea",
   "metadata": {},
   "outputs": [
    {
     "data": {
      "text/html": [
       "<div>\n",
       "<style scoped>\n",
       "    .dataframe tbody tr th:only-of-type {\n",
       "        vertical-align: middle;\n",
       "    }\n",
       "\n",
       "    .dataframe tbody tr th {\n",
       "        vertical-align: top;\n",
       "    }\n",
       "\n",
       "    .dataframe thead th {\n",
       "        text-align: right;\n",
       "    }\n",
       "</style>\n",
       "<table border=\"1\" class=\"dataframe\">\n",
       "  <thead>\n",
       "    <tr style=\"text-align: right;\">\n",
       "      <th></th>\n",
       "      <th>E+H Item Number</th>\n",
       "      <th>QTY</th>\n",
       "      <th>DATE</th>\n",
       "    </tr>\n",
       "  </thead>\n",
       "  <tbody>\n",
       "    <tr>\n",
       "      <th>0</th>\n",
       "      <td>FMX11-CA11FS10</td>\n",
       "      <td>10.0</td>\n",
       "      <td>20240301.0</td>\n",
       "    </tr>\n",
       "    <tr>\n",
       "      <th>1</th>\n",
       "      <td>FTL31-AA4M2AAWBJ</td>\n",
       "      <td>11.0</td>\n",
       "      <td>20240304.0</td>\n",
       "    </tr>\n",
       "    <tr>\n",
       "      <th>2</th>\n",
       "      <td>FTW325-A2A1A</td>\n",
       "      <td>9.0</td>\n",
       "      <td>20240304.0</td>\n",
       "    </tr>\n",
       "    <tr>\n",
       "      <th>3</th>\n",
       "      <td>RLN22-8M2A</td>\n",
       "      <td>12.0</td>\n",
       "      <td>20240305.0</td>\n",
       "    </tr>\n",
       "    <tr>\n",
       "      <th>4</th>\n",
       "      <td>FTL31-AA4M2AAVBJ</td>\n",
       "      <td>4.0</td>\n",
       "      <td>20240306.0</td>\n",
       "    </tr>\n",
       "    <tr>\n",
       "      <th>5</th>\n",
       "      <td>FTW31-A1A5CA0A</td>\n",
       "      <td>3.0</td>\n",
       "      <td>20240307.0</td>\n",
       "    </tr>\n",
       "    <tr>\n",
       "      <th>6</th>\n",
       "      <td>RMA42-AAC</td>\n",
       "      <td>7.0</td>\n",
       "      <td>20240308.0</td>\n",
       "    </tr>\n",
       "    <tr>\n",
       "      <th>7</th>\n",
       "      <td>FTL31-AA4U3BAWSJ</td>\n",
       "      <td>2.0</td>\n",
       "      <td>20240313.0</td>\n",
       "    </tr>\n",
       "    <tr>\n",
       "      <th>8</th>\n",
       "      <td>RLN22-8M2A</td>\n",
       "      <td>4.0</td>\n",
       "      <td>20240313.0</td>\n",
       "    </tr>\n",
       "    <tr>\n",
       "      <th>9</th>\n",
       "      <td>FTW31-A1A5CA0A</td>\n",
       "      <td>3.0</td>\n",
       "      <td>20240319.0</td>\n",
       "    </tr>\n",
       "    <tr>\n",
       "      <th>10</th>\n",
       "      <td>TXU10-AA</td>\n",
       "      <td>5.0</td>\n",
       "      <td>20240320.0</td>\n",
       "    </tr>\n",
       "    <tr>\n",
       "      <th>11</th>\n",
       "      <td>FTL31-AA4U3BAWSJ</td>\n",
       "      <td>8.0</td>\n",
       "      <td>20240322.0</td>\n",
       "    </tr>\n",
       "    <tr>\n",
       "      <th>12</th>\n",
       "      <td>FTL31-AA4U3BAWSJ</td>\n",
       "      <td>2.0</td>\n",
       "      <td>20240326.0</td>\n",
       "    </tr>\n",
       "    <tr>\n",
       "      <th>13</th>\n",
       "      <td>FTL31-AA1U3BAWSJ</td>\n",
       "      <td>10.0</td>\n",
       "      <td>20240326.0</td>\n",
       "    </tr>\n",
       "    <tr>\n",
       "      <th>14</th>\n",
       "      <td>FTW31-A1A3CA0A</td>\n",
       "      <td>2.0</td>\n",
       "      <td>20240328.0</td>\n",
       "    </tr>\n",
       "    <tr>\n",
       "      <th>15</th>\n",
       "      <td>FTL33-CA4M2ABVBJ</td>\n",
       "      <td>2.0</td>\n",
       "      <td>20240329.0</td>\n",
       "    </tr>\n",
       "    <tr>\n",
       "      <th>16</th>\n",
       "      <td>FTL31-AA1S3AAVBJ</td>\n",
       "      <td>15.0</td>\n",
       "      <td>20240330.0</td>\n",
       "    </tr>\n",
       "    <tr>\n",
       "      <th>17</th>\n",
       "      <td>DMA20-AAACA1</td>\n",
       "      <td>8.0</td>\n",
       "      <td>20240330.0</td>\n",
       "    </tr>\n",
       "    <tr>\n",
       "      <th>18</th>\n",
       "      <td>DMA15-AAACA1</td>\n",
       "      <td>9.0</td>\n",
       "      <td>20240330.0</td>\n",
       "    </tr>\n",
       "    <tr>\n",
       "      <th>19</th>\n",
       "      <td>DMA15-AAAAA1</td>\n",
       "      <td>11.0</td>\n",
       "      <td>20240330.0</td>\n",
       "    </tr>\n",
       "    <tr>\n",
       "      <th>20</th>\n",
       "      <td>NaN</td>\n",
       "      <td>NaN</td>\n",
       "      <td>NaN</td>\n",
       "    </tr>\n",
       "  </tbody>\n",
       "</table>\n",
       "</div>"
      ],
      "text/plain": [
       "     E+H Item Number   QTY        DATE\n",
       "0     FMX11-CA11FS10  10.0  20240301.0\n",
       "1   FTL31-AA4M2AAWBJ  11.0  20240304.0\n",
       "2       FTW325-A2A1A   9.0  20240304.0\n",
       "3         RLN22-8M2A  12.0  20240305.0\n",
       "4   FTL31-AA4M2AAVBJ   4.0  20240306.0\n",
       "5     FTW31-A1A5CA0A   3.0  20240307.0\n",
       "6          RMA42-AAC   7.0  20240308.0\n",
       "7   FTL31-AA4U3BAWSJ   2.0  20240313.0\n",
       "8         RLN22-8M2A   4.0  20240313.0\n",
       "9     FTW31-A1A5CA0A   3.0  20240319.0\n",
       "10          TXU10-AA   5.0  20240320.0\n",
       "11  FTL31-AA4U3BAWSJ   8.0  20240322.0\n",
       "12  FTL31-AA4U3BAWSJ   2.0  20240326.0\n",
       "13  FTL31-AA1U3BAWSJ  10.0  20240326.0\n",
       "14    FTW31-A1A3CA0A   2.0  20240328.0\n",
       "15  FTL33-CA4M2ABVBJ   2.0  20240329.0\n",
       "16  FTL31-AA1S3AAVBJ  15.0  20240330.0\n",
       "17      DMA20-AAACA1   8.0  20240330.0\n",
       "18      DMA15-AAACA1   9.0  20240330.0\n",
       "19      DMA15-AAAAA1  11.0  20240330.0\n",
       "20               NaN   NaN         NaN"
      ]
     },
     "execution_count": 8,
     "metadata": {},
     "output_type": "execute_result"
    }
   ],
   "source": [
    "# Read the CSV file and select the columns that will be useful for my work.\n",
    "\n",
    "custB = pd.read_csv(r\"C:\\Users\\kieny\\Desktop\\E+H\\Customer B.csv\", sep = \";\", header = 1, usecols=[4,5,8])\n",
    "custB"
   ]
  },
  {
   "cell_type": "code",
   "execution_count": 9,
   "id": "c97a28ef",
   "metadata": {},
   "outputs": [],
   "source": [
    "# Delete the last row, as it contains only NaN values.\n",
    "\n",
    "custB.drop(custB.tail(1).index, inplace=True)"
   ]
  },
  {
   "cell_type": "code",
   "execution_count": 10,
   "id": "77e1fe27",
   "metadata": {
    "scrolled": false
   },
   "outputs": [
    {
     "name": "stdout",
     "output_type": "stream",
     "text": [
      "<class 'pandas.core.frame.DataFrame'>\n",
      "RangeIndex: 20 entries, 0 to 19\n",
      "Data columns (total 3 columns):\n",
      " #   Column           Non-Null Count  Dtype  \n",
      "---  ------           --------------  -----  \n",
      " 0   E+H Item Number  20 non-null     object \n",
      " 1   QTY              20 non-null     float64\n",
      " 2   DATE             20 non-null     float64\n",
      "dtypes: float64(2), object(1)\n",
      "memory usage: 608.0+ bytes\n"
     ]
    }
   ],
   "source": [
    "# Verify null values and data types to adjust if necessary. \n",
    "\n",
    "custB.info()"
   ]
  },
  {
   "cell_type": "code",
   "execution_count": 11,
   "id": "090f33a6",
   "metadata": {},
   "outputs": [
    {
     "name": "stdout",
     "output_type": "stream",
     "text": [
      "E+H Item Number    0\n",
      "QTY                0\n",
      "DATE               0\n",
      "dtype: int64\n"
     ]
    }
   ],
   "source": [
    "# Check for remaining missing values in the dataframe.\n",
    "\n",
    "print(custB.isna().sum())"
   ]
  },
  {
   "cell_type": "code",
   "execution_count": 12,
   "id": "9ca3aafa",
   "metadata": {},
   "outputs": [],
   "source": [
    "# Several columns are not in the proper data type, so I correct them for future manipulation. \n",
    "\n",
    "custB['QTY'] = custB['QTY'].astype(int)\n",
    "custB['DATE'] = pd.to_datetime(custB['DATE'], format='%Y%m%d')"
   ]
  },
  {
   "cell_type": "code",
   "execution_count": 13,
   "id": "48833098",
   "metadata": {
    "scrolled": true
   },
   "outputs": [
    {
     "name": "stdout",
     "output_type": "stream",
     "text": [
      "<class 'pandas.core.frame.DataFrame'>\n",
      "RangeIndex: 20 entries, 0 to 19\n",
      "Data columns (total 3 columns):\n",
      " #   Column           Non-Null Count  Dtype         \n",
      "---  ------           --------------  -----         \n",
      " 0   E+H Item Number  20 non-null     object        \n",
      " 1   QTY              20 non-null     int32         \n",
      " 2   DATE             20 non-null     datetime64[ns]\n",
      "dtypes: datetime64[ns](1), int32(1), object(1)\n",
      "memory usage: 528.0+ bytes\n"
     ]
    }
   ],
   "source": [
    "# Verify that all data are now in a proper data type. \n",
    "\n",
    "custB.info()"
   ]
  },
  {
   "cell_type": "markdown",
   "id": "2f40f56f",
   "metadata": {},
   "source": [
    "### CONCATENATION OF BOTH DATAFRAMES"
   ]
  },
  {
   "cell_type": "code",
   "execution_count": 14,
   "id": "32479893",
   "metadata": {},
   "outputs": [],
   "source": [
    "# Use the same columns names in both dataframes to prepare for concatenation. \n",
    "\n",
    "custA = custA.rename(columns={'Invoice Date':'DATE'})"
   ]
  },
  {
   "cell_type": "code",
   "execution_count": 15,
   "id": "3ee6e66e",
   "metadata": {
    "scrolled": false
   },
   "outputs": [
    {
     "data": {
      "text/html": [
       "<div>\n",
       "<style scoped>\n",
       "    .dataframe tbody tr th:only-of-type {\n",
       "        vertical-align: middle;\n",
       "    }\n",
       "\n",
       "    .dataframe tbody tr th {\n",
       "        vertical-align: top;\n",
       "    }\n",
       "\n",
       "    .dataframe thead th {\n",
       "        text-align: right;\n",
       "    }\n",
       "</style>\n",
       "<table border=\"1\" class=\"dataframe\">\n",
       "  <thead>\n",
       "    <tr style=\"text-align: right;\">\n",
       "      <th></th>\n",
       "      <th>DATE</th>\n",
       "      <th>E+H Item Number</th>\n",
       "      <th>QTY</th>\n",
       "    </tr>\n",
       "  </thead>\n",
       "  <tbody>\n",
       "    <tr>\n",
       "      <th>0</th>\n",
       "      <td>2024-03-29</td>\n",
       "      <td>FMR50-AAACADBMRGF</td>\n",
       "      <td>1</td>\n",
       "    </tr>\n",
       "    <tr>\n",
       "      <th>1</th>\n",
       "      <td>2024-03-29</td>\n",
       "      <td>CPS11E-AA7BAA6</td>\n",
       "      <td>4</td>\n",
       "    </tr>\n",
       "    <tr>\n",
       "      <th>2</th>\n",
       "      <td>2024-03-29</td>\n",
       "      <td>CYK10-A031</td>\n",
       "      <td>8</td>\n",
       "    </tr>\n",
       "    <tr>\n",
       "      <th>3</th>\n",
       "      <td>2024-03-29</td>\n",
       "      <td>CM14-AAM</td>\n",
       "      <td>6</td>\n",
       "    </tr>\n",
       "    <tr>\n",
       "      <th>4</th>\n",
       "      <td>2024-03-28</td>\n",
       "      <td>FTL31-CA4M2AAVAJ</td>\n",
       "      <td>1</td>\n",
       "    </tr>\n",
       "    <tr>\n",
       "      <th>...</th>\n",
       "      <td>...</td>\n",
       "      <td>...</td>\n",
       "      <td>...</td>\n",
       "    </tr>\n",
       "    <tr>\n",
       "      <th>15</th>\n",
       "      <td>2024-03-29</td>\n",
       "      <td>FTL33-CA4M2ABVBJ</td>\n",
       "      <td>2</td>\n",
       "    </tr>\n",
       "    <tr>\n",
       "      <th>16</th>\n",
       "      <td>2024-03-30</td>\n",
       "      <td>FTL31-AA1S3AAVBJ</td>\n",
       "      <td>15</td>\n",
       "    </tr>\n",
       "    <tr>\n",
       "      <th>17</th>\n",
       "      <td>2024-03-30</td>\n",
       "      <td>DMA20-AAACA1</td>\n",
       "      <td>8</td>\n",
       "    </tr>\n",
       "    <tr>\n",
       "      <th>18</th>\n",
       "      <td>2024-03-30</td>\n",
       "      <td>DMA15-AAACA1</td>\n",
       "      <td>9</td>\n",
       "    </tr>\n",
       "    <tr>\n",
       "      <th>19</th>\n",
       "      <td>2024-03-30</td>\n",
       "      <td>DMA15-AAAAA1</td>\n",
       "      <td>11</td>\n",
       "    </tr>\n",
       "  </tbody>\n",
       "</table>\n",
       "<p>151 rows × 3 columns</p>\n",
       "</div>"
      ],
      "text/plain": [
       "         DATE    E+H Item Number  QTY\n",
       "0  2024-03-29  FMR50-AAACADBMRGF    1\n",
       "1  2024-03-29     CPS11E-AA7BAA6    4\n",
       "2  2024-03-29         CYK10-A031    8\n",
       "3  2024-03-29           CM14-AAM    6\n",
       "4  2024-03-28   FTL31-CA4M2AAVAJ    1\n",
       "..        ...                ...  ...\n",
       "15 2024-03-29   FTL33-CA4M2ABVBJ    2\n",
       "16 2024-03-30   FTL31-AA1S3AAVBJ   15\n",
       "17 2024-03-30       DMA20-AAACA1    8\n",
       "18 2024-03-30       DMA15-AAACA1    9\n",
       "19 2024-03-30       DMA15-AAAAA1   11\n",
       "\n",
       "[151 rows x 3 columns]"
      ]
     },
     "execution_count": 15,
     "metadata": {},
     "output_type": "execute_result"
    }
   ],
   "source": [
    "# Concatenate both dataframes to analyze total sales\n",
    "\n",
    "custAB = pd.concat([custA, custB])\n",
    "custAB"
   ]
  },
  {
   "cell_type": "code",
   "execution_count": 16,
   "id": "a6915d12",
   "metadata": {
    "scrolled": true
   },
   "outputs": [
    {
     "data": {
      "text/html": [
       "<div>\n",
       "<style scoped>\n",
       "    .dataframe tbody tr th:only-of-type {\n",
       "        vertical-align: middle;\n",
       "    }\n",
       "\n",
       "    .dataframe tbody tr th {\n",
       "        vertical-align: top;\n",
       "    }\n",
       "\n",
       "    .dataframe thead th {\n",
       "        text-align: right;\n",
       "    }\n",
       "</style>\n",
       "<table border=\"1\" class=\"dataframe\">\n",
       "  <thead>\n",
       "    <tr style=\"text-align: right;\">\n",
       "      <th></th>\n",
       "      <th>Total Qty</th>\n",
       "      <th>Nb Transactions</th>\n",
       "    </tr>\n",
       "    <tr>\n",
       "      <th>E+H Item Number</th>\n",
       "      <th></th>\n",
       "      <th></th>\n",
       "    </tr>\n",
       "  </thead>\n",
       "  <tbody>\n",
       "    <tr>\n",
       "      <th>FTL31-AA1S3AAVBJ</th>\n",
       "      <td>29</td>\n",
       "      <td>2</td>\n",
       "    </tr>\n",
       "    <tr>\n",
       "      <th>PMD55-FC21BD67FGJHAJA1A</th>\n",
       "      <td>25</td>\n",
       "      <td>4</td>\n",
       "    </tr>\n",
       "    <tr>\n",
       "      <th>DMA50-AAACA1</th>\n",
       "      <td>25</td>\n",
       "      <td>3</td>\n",
       "    </tr>\n",
       "    <tr>\n",
       "      <th>PMD55-FC21BD27CGJHAJA1A</th>\n",
       "      <td>24</td>\n",
       "      <td>6</td>\n",
       "    </tr>\n",
       "    <tr>\n",
       "      <th>DMA15-AAAAA1</th>\n",
       "      <td>22</td>\n",
       "      <td>2</td>\n",
       "    </tr>\n",
       "    <tr>\n",
       "      <th>DMA15-AAACA1</th>\n",
       "      <td>20</td>\n",
       "      <td>3</td>\n",
       "    </tr>\n",
       "    <tr>\n",
       "      <th>FTL51B-CDA4ABIAA1AJA1VCJ</th>\n",
       "      <td>19</td>\n",
       "      <td>2</td>\n",
       "    </tr>\n",
       "    <tr>\n",
       "      <th>71355708</th>\n",
       "      <td>18</td>\n",
       "      <td>1</td>\n",
       "    </tr>\n",
       "    <tr>\n",
       "      <th>DMA20-AAACA1</th>\n",
       "      <td>16</td>\n",
       "      <td>2</td>\n",
       "    </tr>\n",
       "    <tr>\n",
       "      <th>DK5GD-3HAUL</th>\n",
       "      <td>16</td>\n",
       "      <td>2</td>\n",
       "    </tr>\n",
       "    <tr>\n",
       "      <th>CPS11D-7AA21</th>\n",
       "      <td>16</td>\n",
       "      <td>2</td>\n",
       "    </tr>\n",
       "    <tr>\n",
       "      <th>5H3B50-AAIBADDFBDHFASGAA2</th>\n",
       "      <td>16</td>\n",
       "      <td>2</td>\n",
       "    </tr>\n",
       "    <tr>\n",
       "      <th>RLN22-8M2A</th>\n",
       "      <td>16</td>\n",
       "      <td>2</td>\n",
       "    </tr>\n",
       "    <tr>\n",
       "      <th>FMR20-AAPBMVCEVEE1</th>\n",
       "      <td>15</td>\n",
       "      <td>1</td>\n",
       "    </tr>\n",
       "    <tr>\n",
       "      <th>PMC51-FA21JD1KGFRLJJ</th>\n",
       "      <td>15</td>\n",
       "      <td>2</td>\n",
       "    </tr>\n",
       "  </tbody>\n",
       "</table>\n",
       "</div>"
      ],
      "text/plain": [
       "                           Total Qty  Nb Transactions\n",
       "E+H Item Number                                      \n",
       "FTL31-AA1S3AAVBJ                  29                2\n",
       "PMD55-FC21BD67FGJHAJA1A           25                4\n",
       "DMA50-AAACA1                      25                3\n",
       "PMD55-FC21BD27CGJHAJA1A           24                6\n",
       "DMA15-AAAAA1                      22                2\n",
       "DMA15-AAACA1                      20                3\n",
       "FTL51B-CDA4ABIAA1AJA1VCJ          19                2\n",
       "71355708                          18                1\n",
       "DMA20-AAACA1                      16                2\n",
       "DK5GD-3HAUL                       16                2\n",
       "CPS11D-7AA21                      16                2\n",
       "5H3B50-AAIBADDFBDHFASGAA2         16                2\n",
       "RLN22-8M2A                        16                2\n",
       "FMR20-AAPBMVCEVEE1                15                1\n",
       "PMC51-FA21JD1KGFRLJJ              15                2"
      ]
     },
     "execution_count": 16,
     "metadata": {},
     "output_type": "execute_result"
    }
   ],
   "source": [
    "# Group sales by Item Number in order to see which products are the most sold and the number of transactions on the period. \n",
    "grouped_sales = custAB.groupby('E+H Item Number').agg({'QTY': 'sum', 'DATE': 'count'})\n",
    "\n",
    "# Rename the columns properly for better understanding. \n",
    "grouped_sales.columns = ['Total Qty', 'Nb Transactions']\n",
    "\n",
    "# Sort the dataframe according to total quantity sold in a decreasing order. \n",
    "grouped_sales_sort = grouped_sales.sort_values(by = ['Total Qty'], ascending = False)\n",
    "\n",
    "# Display the first 15 rows.\n",
    "grouped_sales_sort.head(15)"
   ]
  },
  {
   "cell_type": "markdown",
   "id": "6d028d56",
   "metadata": {},
   "source": [
    "### RESULTS\n",
    "\n",
    "As a result, we found that the top 3 products sold when combining the sales from resellers A and B are the following references:<ul> \n",
    "    <li> FTL31-AA1S3AAVBJ (29 products sold)\n",
    "    <li> PMD55-FC21BD67FGJHAJA1A (25 products sold)\t\n",
    "    <li> DMA50-AAACA1 (25 products sold)</ul>\t\n",
    "    \n",
    "However, the reference <i>PMD55-FC21BD27CGJHAJA1A</i> was sold in 6 different transactions on the period for a total volume of 24 products sold. We have a stronger interest in putting on stocks for this reference rather than <i>FTL31-AA1S3AAVBJ</i>, which was sold on 2 transactions for a total volume of 29 products, as recurring purchases are high as well as volume sold.   \t\n",
    "\n",
    "With the information at my disposal, <b>I would recommend to put on stock on these products as they sell well and on multiple transactions on the given period</b>:\n",
    "<ul> \n",
    "    <li> PMD55-FC21BD67FGJHAJA1A\t\n",
    "    <li> DMA50-AAACA1\n",
    "    <li> PMD55-FC21BD27CGJHAJA1A \n",
    "</ul>\t"
   ]
  },
  {
   "cell_type": "markdown",
   "id": "6eb25553",
   "metadata": {},
   "source": [
    "I have noticed during my work that some values in the 'E+H Item Number' columns have a different format than others, with only numeric characters. I assume these values are incorrect but have only a limited impact on the results provided."
   ]
  },
  {
   "cell_type": "markdown",
   "id": "cc7e0ade",
   "metadata": {},
   "source": [
    "# ALTERNATIVE SOLUTIONS"
   ]
  },
  {
   "cell_type": "markdown",
   "id": "62f70a3b",
   "metadata": {},
   "source": [
    "With the information at disposal and in the event that a distributor is able to manage its own stock, an alternative solution would rely on keeping the resellers information separated. Indeed, one reseller may have a particular customer base when compared to another. By combining the sales results of all resellers, we lose the uniqueness of each distributor's needs and we don't take customers \"weight\" into account. For example, customer A sold 794 products on the period when customer B sold only 137 products.\n",
    "\n",
    "In our case, I decided to combine sales information as the sample was quite restricted with only 20+ sales for customer B. "
   ]
  },
  {
   "cell_type": "code",
   "execution_count": 17,
   "id": "a0d8fc44",
   "metadata": {
    "scrolled": true
   },
   "outputs": [
    {
     "name": "stdout",
     "output_type": "stream",
     "text": [
      "Quantity sold for customer A:  794\n",
      "Quantity sold for customer B:  137\n"
     ]
    }
   ],
   "source": [
    "sumA = custA['QTY'].sum()\n",
    "sumB = custB['QTY'].sum()\n",
    "print('Quantity sold for customer A: ',sumA)\n",
    "print('Quantity sold for customer B: ',sumB)"
   ]
  },
  {
   "cell_type": "markdown",
   "id": "76d6e1fa",
   "metadata": {},
   "source": [
    "# CHALLENGES AND RECOMMENDATIONS"
   ]
  },
  {
   "cell_type": "markdown",
   "id": "bda5c56c",
   "metadata": {},
   "source": [
    "Here are the main challenges I identify for this business case:<ul> \n",
    "    <li><b>Production time</b>: We lack information about the production time required by every product. By including this information in the analysis, we could identify products with longer production time that are also selling well and regularly. These products would require particular attention when it comes to stock. </li><br>\n",
    "    <li><b>Data span</b>: The two files only concern sales for the month of March 2024. With a larger data span, we could be able to identify patterns in the demand, or seasonality and adapt our stock accordingly. I would recommend carrying out an in-depth analysis over a wider period (a year or more).</li><br>\n",
    "    <li><b>Products profitability</b>: Information about profit margins on each product are probably available at E+H so I recommend considering the profitability of each product by factoring in the profit margins along with sales volume. Higher-margin products might be more suitable for stocking, even if they have lower sales volumes.</li><br>\n",
    "    <li><b>Data quality</b>: As mentionned previously, some information in the sales tables shared by our customers seems to be incorrect such as some products' item numbers. This may alter the quality of the results of our analysis. To minimise this risk, I recommend contacting the customer who provided us with this information to check with them which products are concerned when the product number seems wrong.</li><br>\n",
    "    <li><b>Customer segments</b>: We could ask feedback to our resellers on products that are popular among their customers and have higher customer satisfaction ratings. We would need to segment customers based on their preferences, business typology, purchasing behavior and tailor stocking decisions to meet the needs of each customer segment.</li><br>\n",
    "    <li><b>Inventory costs</b>: We don't have information about inventory costs in our case but keeping products in stock incurs inventory holding costs (storage, handling, obsolescence). I would recommend to conduct a cost-benefit analysis to evaluate the trade-offs between inventory costs and potential benefits of stocking each product.</li>\n",
    "</ul>\n",
    "\n",
    "<b>Products shelf life</b>: In our case, I assume the products don't have a shelf life, so there is no such impact on the stocking strategy as it would with consumer goods for example.\n",
    "\n"
   ]
  }
 ],
 "metadata": {
  "kernelspec": {
   "display_name": "Python 3 (ipykernel)",
   "language": "python",
   "name": "python3"
  },
  "language_info": {
   "codemirror_mode": {
    "name": "ipython",
    "version": 3
   },
   "file_extension": ".py",
   "mimetype": "text/x-python",
   "name": "python",
   "nbconvert_exporter": "python",
   "pygments_lexer": "ipython3",
   "version": "3.9.13"
  }
 },
 "nbformat": 4,
 "nbformat_minor": 5
}
